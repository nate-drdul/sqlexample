{
 "cells": [
  {
   "cell_type": "code",
   "execution_count": 17,
   "id": "ce010fac",
   "metadata": {},
   "outputs": [],
   "source": [
    "import sqlite3\n",
    "import pandas as pd"
   ]
  },
  {
   "cell_type": "code",
   "execution_count": 18,
   "id": "877c4395",
   "metadata": {},
   "outputs": [],
   "source": [
    "# create connection to the in-memory SQLite database\n",
    "conn = sqlite3.connect(':memory:')"
   ]
  },
  {
   "cell_type": "code",
   "execution_count": 19,
   "id": "ac228d25",
   "metadata": {},
   "outputs": [
    {
     "name": "stdout",
     "output_type": "stream",
     "text": [
      "Report has been written to 'report.csv'\n"
     ]
    }
   ],
   "source": [
    "# create tables\n",
    "conn.execute(\"\"\"\n",
    "CREATE TABLE Authors (\n",
    "    ID INTEGER PRIMARY KEY,\n",
    "    Name TEXT NOT NULL,\n",
    "    Birthdate DATE\n",
    ");\n",
    "\"\"\")\n",
    "\n",
    "conn.execute(\"\"\"\n",
    "CREATE TABLE Books (\n",
    "    ID INTEGER PRIMARY KEY,\n",
    "    Title TEXT NOT NULL,\n",
    "    AuthorID INTEGER,\n",
    "    PublishYear INTEGER,\n",
    "    FOREIGN KEY (AuthorID) REFERENCES Authors (ID)\n",
    ");\n",
    "\"\"\")\n",
    "\n",
    "conn.execute(\"\"\"\n",
    "CREATE TABLE Borrowers (\n",
    "    ID INTEGER PRIMARY KEY,\n",
    "    Name TEXT NOT NULL,\n",
    "    BookID INTEGER,\n",
    "    BorrowDate DATE,\n",
    "    ReturnDate DATE,\n",
    "    FOREIGN KEY (BookID) REFERENCES Books (ID)\n",
    ");\n",
    "\"\"\")\n",
    "\n",
    "# insert data\n",
    "conn.execute(\"\"\"\n",
    "INSERT INTO Authors (ID, Name, Birthdate)\n",
    "VALUES \n",
    "    (1, 'George Orwell', '1903-06-25'), \n",
    "    (2, 'Margaret Atwood', '1939-11-18');\n",
    "\"\"\")\n",
    "\n",
    "conn.execute(\"\"\"\n",
    "INSERT INTO Books (ID, Title, AuthorID, PublishYear)\n",
    "VALUES \n",
    "    (1, '1984', 1, 1949), \n",
    "    (2, 'Animal Farm', 1, 1945),\n",
    "    (3, 'The Handmaid''s Tale', 2, 1985),\n",
    "    (4, 'Oryx and Crake', 2, 2003);\n",
    "\"\"\")\n",
    "\n",
    "conn.execute(\"\"\"\n",
    "INSERT INTO Borrowers (ID, Name, BookID, BorrowDate, ReturnDate)\n",
    "VALUES \n",
    "    (1, 'Alice', 1, '2023-07-01', '2023-07-15'),\n",
    "    (2, 'Bob', 2, '2023-07-05', NULL),\n",
    "    (3, 'Charlie', 3, '2023-07-10', NULL),\n",
    "    (4, 'Alice', 4, '2023-07-20', NULL);\n",
    "\"\"\")\n",
    "\n",
    "# run the report query and generate a DataFrame\n",
    "df = pd.read_sql_query(\"\"\"\n",
    "SELECT \n",
    "    Borrowers.Name AS Borrower,\n",
    "    Books.Title AS Book,\n",
    "    Authors.Name AS Author,\n",
    "    Borrowers.BorrowDate\n",
    "FROM\n",
    "    Borrowers\n",
    "JOIN\n",
    "    Books ON Borrowers.BookID = Books.ID\n",
    "JOIN\n",
    "    Authors ON Books.AuthorID = Authors.ID\n",
    "WHERE\n",
    "    Borrowers.ReturnDate IS NULL;\n",
    "\"\"\", conn)\n",
    "\n",
    "# write the DataFrame to a CSV file\n",
    "df.to_csv('report.csv', index=False)\n",
    "\n",
    "print(\"Report has been written to 'report.csv'\")\n"
   ]
  },
  {
   "cell_type": "code",
   "execution_count": 20,
   "id": "79fa0a12",
   "metadata": {},
   "outputs": [
    {
     "data": {
      "text/html": [
       "<div>\n",
       "<style scoped>\n",
       "    .dataframe tbody tr th:only-of-type {\n",
       "        vertical-align: middle;\n",
       "    }\n",
       "\n",
       "    .dataframe tbody tr th {\n",
       "        vertical-align: top;\n",
       "    }\n",
       "\n",
       "    .dataframe thead th {\n",
       "        text-align: right;\n",
       "    }\n",
       "</style>\n",
       "<table border=\"1\" class=\"dataframe\">\n",
       "  <thead>\n",
       "    <tr style=\"text-align: right;\">\n",
       "      <th></th>\n",
       "      <th>Borrower</th>\n",
       "      <th>Book</th>\n",
       "      <th>Author</th>\n",
       "      <th>BorrowDate</th>\n",
       "    </tr>\n",
       "  </thead>\n",
       "  <tbody>\n",
       "    <tr>\n",
       "      <th>0</th>\n",
       "      <td>Bob</td>\n",
       "      <td>Animal Farm</td>\n",
       "      <td>George Orwell</td>\n",
       "      <td>2023-07-05</td>\n",
       "    </tr>\n",
       "    <tr>\n",
       "      <th>1</th>\n",
       "      <td>Charlie</td>\n",
       "      <td>The Handmaid's Tale</td>\n",
       "      <td>Margaret Atwood</td>\n",
       "      <td>2023-07-10</td>\n",
       "    </tr>\n",
       "    <tr>\n",
       "      <th>2</th>\n",
       "      <td>Alice</td>\n",
       "      <td>Oryx and Crake</td>\n",
       "      <td>Margaret Atwood</td>\n",
       "      <td>2023-07-20</td>\n",
       "    </tr>\n",
       "  </tbody>\n",
       "</table>\n",
       "</div>"
      ],
      "text/plain": [
       "  Borrower                 Book           Author  BorrowDate\n",
       "0      Bob          Animal Farm    George Orwell  2023-07-05\n",
       "1  Charlie  The Handmaid's Tale  Margaret Atwood  2023-07-10\n",
       "2    Alice       Oryx and Crake  Margaret Atwood  2023-07-20"
      ]
     },
     "execution_count": 20,
     "metadata": {},
     "output_type": "execute_result"
    }
   ],
   "source": [
    "df"
   ]
  },
  {
   "cell_type": "code",
   "execution_count": 21,
   "id": "aae3359d",
   "metadata": {},
   "outputs": [
    {
     "name": "stdout",
     "output_type": "stream",
     "text": [
      "Report has been written to 'report.xlsx'\n"
     ]
    }
   ],
   "source": [
    "# write the DataFrame to an Excel file\n",
    "df.to_excel('report.xlsx', index=False, sheet_name='Report')\n",
    "\n",
    "print(\"Report has been written to 'report.xlsx'\")"
   ]
  },
  {
   "cell_type": "code",
   "execution_count": null,
   "id": "627284e2",
   "metadata": {},
   "outputs": [],
   "source": []
  }
 ],
 "metadata": {
  "kernelspec": {
   "display_name": "Python 3 (ipykernel)",
   "language": "python",
   "name": "python3"
  },
  "language_info": {
   "codemirror_mode": {
    "name": "ipython",
    "version": 3
   },
   "file_extension": ".py",
   "mimetype": "text/x-python",
   "name": "python",
   "nbconvert_exporter": "python",
   "pygments_lexer": "ipython3",
   "version": "3.9.16"
  }
 },
 "nbformat": 4,
 "nbformat_minor": 5
}
